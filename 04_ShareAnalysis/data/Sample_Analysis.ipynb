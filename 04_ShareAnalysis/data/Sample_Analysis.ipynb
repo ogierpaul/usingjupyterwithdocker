{
 "cells": [
  {
   "cell_type": "code",
   "execution_count": 1,
   "metadata": {},
   "outputs": [],
   "source": [
    "import pandas as pd"
   ]
  },
  {
   "cell_type": "markdown",
   "metadata": {},
   "source": [
    "# Read the file\n",
    "- This will read the file copied inside of the container.\n",
    "- As this file is copied during image creation time, modifying the file on the host will not modify the data in the container, unless you re-build the image and re-start a container\n",
    "- This is useful to publish your work and for replication purpose:\n",
    "    - Once the data is published as an image, it is \"frozen\"\n",
    "    - People can then easily download the image and look at your analysis without worrying about the source of data\n",
    "- PS: Data taken from the excellent [Mockaroo](https://mockaroo.com/)"
   ]
  },
  {
   "cell_type": "code",
   "execution_count": 11,
   "metadata": {},
   "outputs": [
    {
     "data": {
      "text/html": [
       "<div>\n",
       "<style scoped>\n",
       "    .dataframe tbody tr th:only-of-type {\n",
       "        vertical-align: middle;\n",
       "    }\n",
       "\n",
       "    .dataframe tbody tr th {\n",
       "        vertical-align: top;\n",
       "    }\n",
       "\n",
       "    .dataframe thead th {\n",
       "        text-align: right;\n",
       "    }\n",
       "</style>\n",
       "<table border=\"1\" class=\"dataframe\">\n",
       "  <thead>\n",
       "    <tr style=\"text-align: right;\">\n",
       "      <th></th>\n",
       "      <th>first_name</th>\n",
       "      <th>last_name</th>\n",
       "      <th>email</th>\n",
       "      <th>gender</th>\n",
       "      <th>ip_address</th>\n",
       "    </tr>\n",
       "    <tr>\n",
       "      <th>id</th>\n",
       "      <th></th>\n",
       "      <th></th>\n",
       "      <th></th>\n",
       "      <th></th>\n",
       "      <th></th>\n",
       "    </tr>\n",
       "  </thead>\n",
       "  <tbody>\n",
       "    <tr>\n",
       "      <th>1</th>\n",
       "      <td>Rochester</td>\n",
       "      <td>Manhood</td>\n",
       "      <td>rmanhood0@gmpg.org</td>\n",
       "      <td>Male</td>\n",
       "      <td>115.29.241.78</td>\n",
       "    </tr>\n",
       "    <tr>\n",
       "      <th>2</th>\n",
       "      <td>Elizabet</td>\n",
       "      <td>Flattman</td>\n",
       "      <td>eflattman1@upenn.edu</td>\n",
       "      <td>Female</td>\n",
       "      <td>142.209.101.34</td>\n",
       "    </tr>\n",
       "    <tr>\n",
       "      <th>3</th>\n",
       "      <td>Mersey</td>\n",
       "      <td>Taylot</td>\n",
       "      <td>mtaylot2@google.it</td>\n",
       "      <td>Female</td>\n",
       "      <td>112.19.32.138</td>\n",
       "    </tr>\n",
       "    <tr>\n",
       "      <th>4</th>\n",
       "      <td>Krystalle</td>\n",
       "      <td>Scotchbrook</td>\n",
       "      <td>kscotchbrook3@illinois.edu</td>\n",
       "      <td>Female</td>\n",
       "      <td>107.255.78.15</td>\n",
       "    </tr>\n",
       "    <tr>\n",
       "      <th>5</th>\n",
       "      <td>Stefa</td>\n",
       "      <td>Wilshaw</td>\n",
       "      <td>swilshaw4@sitemeter.com</td>\n",
       "      <td>Female</td>\n",
       "      <td>234.97.47.3</td>\n",
       "    </tr>\n",
       "  </tbody>\n",
       "</table>\n",
       "</div>"
      ],
      "text/plain": [
       "   first_name    last_name                       email  gender      ip_address\n",
       "id                                                                            \n",
       "1   Rochester      Manhood          rmanhood0@gmpg.org    Male   115.29.241.78\n",
       "2    Elizabet     Flattman        eflattman1@upenn.edu  Female  142.209.101.34\n",
       "3      Mersey       Taylot          mtaylot2@google.it  Female   112.19.32.138\n",
       "4   Krystalle  Scotchbrook  kscotchbrook3@illinois.edu  Female   107.255.78.15\n",
       "5       Stefa      Wilshaw     swilshaw4@sitemeter.com  Female     234.97.47.3"
      ]
     },
     "execution_count": 11,
     "metadata": {},
     "output_type": "execute_result"
    }
   ],
   "source": [
    "df = pd.read_csv('/home/jovyan/data/mockaroo_data.csv', index_col=0)\n",
    "df.head()"
   ]
  },
  {
   "cell_type": "markdown",
   "metadata": {},
   "source": [
    "# Sample Analysis: what are the most common email-domains?"
   ]
  },
  {
   "cell_type": "code",
   "execution_count": 12,
   "metadata": {},
   "outputs": [
    {
     "data": {
      "text/plain": [
       "google            28\n",
       "goo                8\n",
       "chicagotribune     8\n",
       "amazon             7\n",
       "ucla               7\n",
       "                  ..\n",
       "woothemes          1\n",
       "irs                1\n",
       "ft                 1\n",
       "newyorker          1\n",
       "mashable           1\n",
       "Name: email, Length: 411, dtype: int64"
      ]
     },
     "execution_count": 12,
     "metadata": {},
     "output_type": "execute_result"
    }
   ],
   "source": [
    "y = df['email'].str.split('@').str[1].str.split('.').str[0]\n",
    "y.value_counts()"
   ]
  },
  {
   "cell_type": "code",
   "execution_count": null,
   "metadata": {},
   "outputs": [],
   "source": []
  }
 ],
 "metadata": {
  "kernelspec": {
   "display_name": "Python 3",
   "language": "python",
   "name": "python3"
  },
  "language_info": {
   "codemirror_mode": {
    "name": "ipython",
    "version": 3
   },
   "file_extension": ".py",
   "mimetype": "text/x-python",
   "name": "python",
   "nbconvert_exporter": "python",
   "pygments_lexer": "ipython3",
   "version": "3.8.6"
  }
 },
 "nbformat": 4,
 "nbformat_minor": 4
}
