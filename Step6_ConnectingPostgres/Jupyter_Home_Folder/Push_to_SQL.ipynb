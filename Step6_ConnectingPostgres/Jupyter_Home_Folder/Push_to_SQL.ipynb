{
 "cells": [
  {
   "cell_type": "code",
   "execution_count": 1,
   "metadata": {},
   "outputs": [],
   "source": [
    "import pandas as pd\n",
    "import psycopg2\n",
    "from sqlalchemy import create_engine\n",
    "import os"
   ]
  },
  {
   "cell_type": "markdown",
   "metadata": {},
   "source": [
    "# Reading the file"
   ]
  },
  {
   "cell_type": "code",
   "execution_count": 2,
   "metadata": {},
   "outputs": [
    {
     "data": {
      "text/html": [
       "<div>\n",
       "<style scoped>\n",
       "    .dataframe tbody tr th:only-of-type {\n",
       "        vertical-align: middle;\n",
       "    }\n",
       "\n",
       "    .dataframe tbody tr th {\n",
       "        vertical-align: top;\n",
       "    }\n",
       "\n",
       "    .dataframe thead th {\n",
       "        text-align: right;\n",
       "    }\n",
       "</style>\n",
       "<table border=\"1\" class=\"dataframe\">\n",
       "  <thead>\n",
       "    <tr style=\"text-align: right;\">\n",
       "      <th></th>\n",
       "      <th>first_name</th>\n",
       "      <th>last_name</th>\n",
       "      <th>email</th>\n",
       "      <th>gender</th>\n",
       "      <th>ip_address</th>\n",
       "    </tr>\n",
       "    <tr>\n",
       "      <th>id</th>\n",
       "      <th></th>\n",
       "      <th></th>\n",
       "      <th></th>\n",
       "      <th></th>\n",
       "      <th></th>\n",
       "    </tr>\n",
       "  </thead>\n",
       "  <tbody>\n",
       "    <tr>\n",
       "      <th>1</th>\n",
       "      <td>Rochester</td>\n",
       "      <td>Manhood</td>\n",
       "      <td>rmanhood0@gmpg.org</td>\n",
       "      <td>Male</td>\n",
       "      <td>115.29.241.78</td>\n",
       "    </tr>\n",
       "    <tr>\n",
       "      <th>2</th>\n",
       "      <td>Elizabet</td>\n",
       "      <td>Flattman</td>\n",
       "      <td>eflattman1@upenn.edu</td>\n",
       "      <td>Female</td>\n",
       "      <td>142.209.101.34</td>\n",
       "    </tr>\n",
       "    <tr>\n",
       "      <th>3</th>\n",
       "      <td>Mersey</td>\n",
       "      <td>Taylot</td>\n",
       "      <td>mtaylot2@google.it</td>\n",
       "      <td>Female</td>\n",
       "      <td>112.19.32.138</td>\n",
       "    </tr>\n",
       "    <tr>\n",
       "      <th>4</th>\n",
       "      <td>Krystalle</td>\n",
       "      <td>Scotchbrook</td>\n",
       "      <td>kscotchbrook3@illinois.edu</td>\n",
       "      <td>Female</td>\n",
       "      <td>107.255.78.15</td>\n",
       "    </tr>\n",
       "    <tr>\n",
       "      <th>5</th>\n",
       "      <td>Stefa</td>\n",
       "      <td>Wilshaw</td>\n",
       "      <td>swilshaw4@sitemeter.com</td>\n",
       "      <td>Female</td>\n",
       "      <td>234.97.47.3</td>\n",
       "    </tr>\n",
       "  </tbody>\n",
       "</table>\n",
       "</div>"
      ],
      "text/plain": [
       "   first_name    last_name                       email  gender      ip_address\n",
       "id                                                                            \n",
       "1   Rochester      Manhood          rmanhood0@gmpg.org    Male   115.29.241.78\n",
       "2    Elizabet     Flattman        eflattman1@upenn.edu  Female  142.209.101.34\n",
       "3      Mersey       Taylot          mtaylot2@google.it  Female   112.19.32.138\n",
       "4   Krystalle  Scotchbrook  kscotchbrook3@illinois.edu  Female   107.255.78.15\n",
       "5       Stefa      Wilshaw     swilshaw4@sitemeter.com  Female     234.97.47.3"
      ]
     },
     "execution_count": 2,
     "metadata": {},
     "output_type": "execute_result"
    }
   ],
   "source": [
    "df = pd.read_csv('mockaroo_data.csv', index_col=0, nrows=100)\n",
    "df.head()"
   ]
  },
  {
   "cell_type": "markdown",
   "metadata": {},
   "source": [
    "# Creating the connection\n",
    "- Create the connection\n",
    "- hostname = service_name\n",
    "- print conn.status: If active will return 1\n",
    "- sanity check: Read pg_database"
   ]
  },
  {
   "cell_type": "code",
   "execution_count": 3,
   "metadata": {},
   "outputs": [
    {
     "name": "stdout",
     "output_type": "stream",
     "text": [
      "1\n"
     ]
    },
    {
     "data": {
      "text/html": [
       "<div>\n",
       "<style scoped>\n",
       "    .dataframe tbody tr th:only-of-type {\n",
       "        vertical-align: middle;\n",
       "    }\n",
       "\n",
       "    .dataframe tbody tr th {\n",
       "        vertical-align: top;\n",
       "    }\n",
       "\n",
       "    .dataframe thead th {\n",
       "        text-align: right;\n",
       "    }\n",
       "</style>\n",
       "<table border=\"1\" class=\"dataframe\">\n",
       "  <thead>\n",
       "    <tr style=\"text-align: right;\">\n",
       "      <th></th>\n",
       "      <th>oid</th>\n",
       "      <th>datname</th>\n",
       "      <th>datdba</th>\n",
       "      <th>encoding</th>\n",
       "      <th>datcollate</th>\n",
       "      <th>datctype</th>\n",
       "      <th>datistemplate</th>\n",
       "      <th>datallowconn</th>\n",
       "      <th>datconnlimit</th>\n",
       "      <th>datlastsysoid</th>\n",
       "      <th>datfrozenxid</th>\n",
       "      <th>datminmxid</th>\n",
       "      <th>dattablespace</th>\n",
       "      <th>datacl</th>\n",
       "    </tr>\n",
       "  </thead>\n",
       "  <tbody>\n",
       "    <tr>\n",
       "      <th>0</th>\n",
       "      <td>13395</td>\n",
       "      <td>postgres</td>\n",
       "      <td>10</td>\n",
       "      <td>6</td>\n",
       "      <td>en_US.utf8</td>\n",
       "      <td>en_US.utf8</td>\n",
       "      <td>False</td>\n",
       "      <td>True</td>\n",
       "      <td>-1</td>\n",
       "      <td>13394</td>\n",
       "      <td>479</td>\n",
       "      <td>1</td>\n",
       "      <td>1663</td>\n",
       "      <td>None</td>\n",
       "    </tr>\n",
       "    <tr>\n",
       "      <th>1</th>\n",
       "      <td>16384</td>\n",
       "      <td>mydb</td>\n",
       "      <td>10</td>\n",
       "      <td>6</td>\n",
       "      <td>en_US.utf8</td>\n",
       "      <td>en_US.utf8</td>\n",
       "      <td>False</td>\n",
       "      <td>True</td>\n",
       "      <td>-1</td>\n",
       "      <td>13394</td>\n",
       "      <td>479</td>\n",
       "      <td>1</td>\n",
       "      <td>1663</td>\n",
       "      <td>None</td>\n",
       "    </tr>\n",
       "    <tr>\n",
       "      <th>2</th>\n",
       "      <td>1</td>\n",
       "      <td>template1</td>\n",
       "      <td>10</td>\n",
       "      <td>6</td>\n",
       "      <td>en_US.utf8</td>\n",
       "      <td>en_US.utf8</td>\n",
       "      <td>True</td>\n",
       "      <td>True</td>\n",
       "      <td>-1</td>\n",
       "      <td>13394</td>\n",
       "      <td>479</td>\n",
       "      <td>1</td>\n",
       "      <td>1663</td>\n",
       "      <td>{=c/myuser,myuser=CTc/myuser}</td>\n",
       "    </tr>\n",
       "    <tr>\n",
       "      <th>3</th>\n",
       "      <td>13394</td>\n",
       "      <td>template0</td>\n",
       "      <td>10</td>\n",
       "      <td>6</td>\n",
       "      <td>en_US.utf8</td>\n",
       "      <td>en_US.utf8</td>\n",
       "      <td>True</td>\n",
       "      <td>False</td>\n",
       "      <td>-1</td>\n",
       "      <td>13394</td>\n",
       "      <td>479</td>\n",
       "      <td>1</td>\n",
       "      <td>1663</td>\n",
       "      <td>{=c/myuser,myuser=CTc/myuser}</td>\n",
       "    </tr>\n",
       "  </tbody>\n",
       "</table>\n",
       "</div>"
      ],
      "text/plain": [
       "     oid    datname  datdba  encoding  datcollate    datctype  datistemplate  \\\n",
       "0  13395   postgres      10         6  en_US.utf8  en_US.utf8          False   \n",
       "1  16384       mydb      10         6  en_US.utf8  en_US.utf8          False   \n",
       "2      1  template1      10         6  en_US.utf8  en_US.utf8           True   \n",
       "3  13394  template0      10         6  en_US.utf8  en_US.utf8           True   \n",
       "\n",
       "   datallowconn  datconnlimit  datlastsysoid datfrozenxid datminmxid  \\\n",
       "0          True            -1          13394          479          1   \n",
       "1          True            -1          13394          479          1   \n",
       "2          True            -1          13394          479          1   \n",
       "3         False            -1          13394          479          1   \n",
       "\n",
       "   dattablespace                         datacl  \n",
       "0           1663                           None  \n",
       "1           1663                           None  \n",
       "2           1663  {=c/myuser,myuser=CTc/myuser}  \n",
       "3           1663  {=c/myuser,myuser=CTc/myuser}  "
      ]
     },
     "execution_count": 3,
     "metadata": {},
     "output_type": "execute_result"
    }
   ],
   "source": [
    "conn = psycopg2.connect(\"host=postgres_service dbname=mydb user=myuser password={}\".format(os.environ.get(\"POSTGRES_PASSWORD\")))\n",
    "print(conn.status)\n",
    "pd.read_sql('SELECT * FROM pg_database;', con=conn).head()"
   ]
  },
  {
   "cell_type": "markdown",
   "metadata": {},
   "source": [
    "# Let's try pushing data from jupyter to SQL and vice-versa\n",
    "- We will use the sqlAlchemy engine to be compatible with pandas"
   ]
  },
  {
   "cell_type": "code",
   "execution_count": 5,
   "metadata": {},
   "outputs": [],
   "source": [
    "engine = create_engine('postgresql+psycopg2://myuser:{}@postgres_service/mydb'.format(os.environ.get(\"POSTGRES_PASSWORD\")))\n",
    "df.to_sql('mockaroo', engine, if_exists='replace',index=False)"
   ]
  },
  {
   "cell_type": "code",
   "execution_count": 6,
   "metadata": {},
   "outputs": [
    {
     "data": {
      "text/html": [
       "<div>\n",
       "<style scoped>\n",
       "    .dataframe tbody tr th:only-of-type {\n",
       "        vertical-align: middle;\n",
       "    }\n",
       "\n",
       "    .dataframe tbody tr th {\n",
       "        vertical-align: top;\n",
       "    }\n",
       "\n",
       "    .dataframe thead th {\n",
       "        text-align: right;\n",
       "    }\n",
       "</style>\n",
       "<table border=\"1\" class=\"dataframe\">\n",
       "  <thead>\n",
       "    <tr style=\"text-align: right;\">\n",
       "      <th></th>\n",
       "      <th>count</th>\n",
       "    </tr>\n",
       "  </thead>\n",
       "  <tbody>\n",
       "    <tr>\n",
       "      <th>0</th>\n",
       "      <td>100</td>\n",
       "    </tr>\n",
       "  </tbody>\n",
       "</table>\n",
       "</div>"
      ],
      "text/plain": [
       "   count\n",
       "0    100"
      ]
     },
     "execution_count": 6,
     "metadata": {},
     "output_type": "execute_result"
    }
   ],
   "source": [
    "pd.read_sql('SELECT COUNT(*) FROM mockaroo', engine)"
   ]
  },
  {
   "cell_type": "markdown",
   "metadata": {},
   "source": [
    "# Connection Successful"
   ]
  },
  {
   "cell_type": "code",
   "execution_count": 7,
   "metadata": {},
   "outputs": [],
   "source": [
    "conn.close()"
   ]
  },
  {
   "cell_type": "code",
   "execution_count": null,
   "metadata": {},
   "outputs": [],
   "source": []
  }
 ],
 "metadata": {
  "kernelspec": {
   "display_name": "Python 3",
   "language": "python",
   "name": "python3"
  },
  "language_info": {
   "codemirror_mode": {
    "name": "ipython",
    "version": 3
   },
   "file_extension": ".py",
   "mimetype": "text/x-python",
   "name": "python",
   "nbconvert_exporter": "python",
   "pygments_lexer": "ipython3",
   "version": "3.8.6"
  }
 },
 "nbformat": 4,
 "nbformat_minor": 4
}
