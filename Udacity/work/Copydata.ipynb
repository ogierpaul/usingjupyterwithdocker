{
 "cells": [
  {
   "cell_type": "code",
   "execution_count": 1,
   "metadata": {},
   "outputs": [],
   "source": [
    "import pandas as pd"
   ]
  },
  {
   "cell_type": "code",
   "execution_count": 2,
   "metadata": {},
   "outputs": [],
   "source": [
    "df = pd.read_csv('mockaroo_data.csv')\n",
    "df.to_csv('/home/jovyan/stagingarea/mockaroo_copied.csv', index=False)"
   ]
  },
  {
   "cell_type": "code",
   "execution_count": 3,
   "metadata": {},
   "outputs": [
    {
     "data": {
      "text/html": [
       "<div>\n",
       "<style scoped>\n",
       "    .dataframe tbody tr th:only-of-type {\n",
       "        vertical-align: middle;\n",
       "    }\n",
       "\n",
       "    .dataframe tbody tr th {\n",
       "        vertical-align: top;\n",
       "    }\n",
       "\n",
       "    .dataframe thead th {\n",
       "        text-align: right;\n",
       "    }\n",
       "</style>\n",
       "<table border=\"1\" class=\"dataframe\">\n",
       "  <thead>\n",
       "    <tr style=\"text-align: right;\">\n",
       "      <th></th>\n",
       "      <th>id</th>\n",
       "      <th>first_name</th>\n",
       "      <th>last_name</th>\n",
       "      <th>email</th>\n",
       "      <th>gender</th>\n",
       "      <th>ip_address</th>\n",
       "    </tr>\n",
       "  </thead>\n",
       "  <tbody>\n",
       "    <tr>\n",
       "      <th>0</th>\n",
       "      <td>1</td>\n",
       "      <td>Rochester</td>\n",
       "      <td>Manhood</td>\n",
       "      <td>rmanhood0@gmpg.org</td>\n",
       "      <td>Male</td>\n",
       "      <td>115.29.241.78</td>\n",
       "    </tr>\n",
       "    <tr>\n",
       "      <th>1</th>\n",
       "      <td>2</td>\n",
       "      <td>Elizabet</td>\n",
       "      <td>Flattman</td>\n",
       "      <td>eflattman1@upenn.edu</td>\n",
       "      <td>Female</td>\n",
       "      <td>142.209.101.34</td>\n",
       "    </tr>\n",
       "    <tr>\n",
       "      <th>2</th>\n",
       "      <td>3</td>\n",
       "      <td>Mersey</td>\n",
       "      <td>Taylot</td>\n",
       "      <td>mtaylot2@google.it</td>\n",
       "      <td>Female</td>\n",
       "      <td>112.19.32.138</td>\n",
       "    </tr>\n",
       "    <tr>\n",
       "      <th>3</th>\n",
       "      <td>4</td>\n",
       "      <td>Krystalle</td>\n",
       "      <td>Scotchbrook</td>\n",
       "      <td>kscotchbrook3@illinois.edu</td>\n",
       "      <td>Female</td>\n",
       "      <td>107.255.78.15</td>\n",
       "    </tr>\n",
       "    <tr>\n",
       "      <th>4</th>\n",
       "      <td>5</td>\n",
       "      <td>Stefa</td>\n",
       "      <td>Wilshaw</td>\n",
       "      <td>swilshaw4@sitemeter.com</td>\n",
       "      <td>Female</td>\n",
       "      <td>234.97.47.3</td>\n",
       "    </tr>\n",
       "  </tbody>\n",
       "</table>\n",
       "</div>"
      ],
      "text/plain": [
       "   id first_name    last_name                       email  gender  \\\n",
       "0   1  Rochester      Manhood          rmanhood0@gmpg.org    Male   \n",
       "1   2   Elizabet     Flattman        eflattman1@upenn.edu  Female   \n",
       "2   3     Mersey       Taylot          mtaylot2@google.it  Female   \n",
       "3   4  Krystalle  Scotchbrook  kscotchbrook3@illinois.edu  Female   \n",
       "4   5      Stefa      Wilshaw     swilshaw4@sitemeter.com  Female   \n",
       "\n",
       "       ip_address  \n",
       "0   115.29.241.78  \n",
       "1  142.209.101.34  \n",
       "2   112.19.32.138  \n",
       "3   107.255.78.15  \n",
       "4     234.97.47.3  "
      ]
     },
     "execution_count": 3,
     "metadata": {},
     "output_type": "execute_result"
    }
   ],
   "source": [
    "df.head()"
   ]
  },
  {
   "cell_type": "code",
   "execution_count": null,
   "metadata": {},
   "outputs": [],
   "source": []
  }
 ],
 "metadata": {
  "kernelspec": {
   "display_name": "Python 3",
   "language": "python",
   "name": "python3"
  },
  "language_info": {
   "codemirror_mode": {
    "name": "ipython",
    "version": 3
   },
   "file_extension": ".py",
   "mimetype": "text/x-python",
   "name": "python",
   "nbconvert_exporter": "python",
   "pygments_lexer": "ipython3",
   "version": "3.8.6"
  }
 },
 "nbformat": 4,
 "nbformat_minor": 4
}
