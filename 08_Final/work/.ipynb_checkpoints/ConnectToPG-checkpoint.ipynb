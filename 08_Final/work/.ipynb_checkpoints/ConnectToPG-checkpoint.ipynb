{
 "cells": [
  {
   "cell_type": "code",
   "execution_count": 4,
   "metadata": {},
   "outputs": [],
   "source": [
    "import psycopg2\n",
    "import os"
   ]
  },
  {
   "cell_type": "code",
   "execution_count": 32,
   "metadata": {},
   "outputs": [],
   "source": [
    "conn = psycopg2.connect(\"host=postgres_service dbname=mydb user=myuser password={}\".format(os.environ.get(\"POSTGRES_PASSWORD\")))\n",
    "conn.autocommit = True\n",
    "print(conn.status)"
   ]
  },
  {
   "cell_type": "code",
   "execution_count": 27,
   "metadata": {},
   "outputs": [],
   "source": [
    "cur = conn.cursor()"
   ]
  },
  {
   "cell_type": "code",
   "execution_count": 17,
   "metadata": {},
   "outputs": [],
   "source": [
    "q_create = \"\"\"\n",
    "CREATE TABLE mockaroo (\n",
    "id INTEGER,\n",
    "first_name VARCHAR,\n",
    "last_name VARCHAR,\n",
    "email VARCHAR,\n",
    "gender VARCHAR,\n",
    "ip_address INET\n",
    ");\n",
    "\"\"\"\n",
    "cur.execute(q_create)"
   ]
  },
  {
   "cell_type": "code",
   "execution_count": 31,
   "metadata": {},
   "outputs": [],
   "source": [
    "q_load = \"\"\"\n",
    "COPY mockaroo FROM '/home/jovyan/stagingarea/mockaroo_copied.csv' WITH CSV HEADER \n",
    "\"\"\"\n",
    "cur.execute(q_load)"
   ]
  },
  {
   "cell_type": "code",
   "execution_count": 45,
   "metadata": {},
   "outputs": [
    {
     "data": {
      "text/plain": [
       "(1000,)"
      ]
     },
     "execution_count": 45,
     "metadata": {},
     "output_type": "execute_result"
    }
   ],
   "source": [
    "q_select = \"\"\"\n",
    "SELECT COUNT(*) FROM mockaroo ;\n",
    "\"\"\"\n",
    "cur.execute(q_select)\n",
    "cur.fetchone()"
   ]
  }
 ],
 "metadata": {
  "kernelspec": {
   "display_name": "Python 3",
   "language": "python",
   "name": "python3"
  },
  "language_info": {
   "codemirror_mode": {
    "name": "ipython",
    "version": 3
   },
   "file_extension": ".py",
   "mimetype": "text/x-python",
   "name": "python",
   "nbconvert_exporter": "python",
   "pygments_lexer": "ipython3",
   "version": "3.8.6"
  }
 },
 "nbformat": 4,
 "nbformat_minor": 4
}
